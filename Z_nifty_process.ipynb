{
 "cells": [
  {
   "cell_type": "code",
   "execution_count": 11,
   "metadata": {},
   "outputs": [],
   "source": [
    "from scipy.ndimage import zoom\n",
    "from scipy.io import loadmat\n",
    "import numpy as np\n",
    "import nibabel as nib\n",
    "import glob\n",
    "import os"
   ]
  },
  {
   "cell_type": "code",
   "execution_count": 18,
   "metadata": {},
   "outputs": [],
   "source": [
    "def process_data(data):\n",
    "    \n",
    "    px, py, pz = data.shape\n",
    "    qx, qy, qz = (256, 256, 89)\n",
    "    zoom_data = zoom(data, (qx/px, qy/py, qz/pz))\n",
    "    \n",
    "    (values,counts) = np.unique(zoom_data,return_counts=True)\n",
    "    ind = np.argmax(counts)\n",
    "    th_min = values[ind]\n",
    "    print(\"background: \", th_min)\n",
    "    zoom_data[zoom_data<th_min] = 0\n",
    "    th_max = np.percentile(zoom_data, q=99.9)\n",
    "    zoom_data[zoom_data>th_max] = th_max\n",
    "    zoom_data = zoom_data / th_max\n",
    "    print(\"Max: \", np.amax(zoom_data))\n",
    "    print(\"Min: \", np.amin(zoom_data))\n",
    "\n",
    "\n",
    "    print(\"Old dim:\", data.shape)\n",
    "    print(\"New dim:\", zoom_data.shape)\n",
    "\n",
    "    return zoom_data"
   ]
  },
  {
   "cell_type": "code",
   "execution_count": 19,
   "metadata": {},
   "outputs": [
    {
     "name": "stdout",
     "output_type": "stream",
     "text": [
      "./test_data/BraTS20_Training_001_t1.nii.gz\n",
      "background:  -6.350084542852084e-22\n",
      "Max:  1.0\n",
      "Min:  -1.2360955824781032e-24\n",
      "Old dim: (240, 240, 155)\n",
      "New dim: (256, 256, 89)\n",
      "BraTS20_Training_001_t1_rec.nii\n"
     ]
    }
   ],
   "source": [
    "tmpl_name = \"./test_data/zeros_PET.nii\"\n",
    "tmpl_nii = nib.load(tmpl_name)\n",
    "tmpl_header = tmpl_nii.header\n",
    "tmpl_affine = tmpl_nii.affine\n",
    "\n",
    "nii_list = glob.glob(\"./test_data/*.nii.gz\")\n",
    "nii_list.sort()\n",
    "for nii_name in nii_list:\n",
    "    print(nii_name)\n",
    "    nii_data = nib.load(nii_name).get_fdata()\n",
    "       \n",
    "    save_data = process_data(nii_data)\n",
    "    save_file = nib.Nifti1Image(save_data, affine=tmpl_affine, header=tmpl_header)\n",
    "    save_name = os.path.basename(nii_name)[:-7]+\"_rec.nii\"\n",
    "    nib.save(save_file, save_name)\n",
    "    print(save_name)"
   ]
  },
  {
   "cell_type": "code",
   "execution_count": null,
   "metadata": {},
   "outputs": [],
   "source": []
  },
  {
   "cell_type": "code",
   "execution_count": 3,
   "metadata": {},
   "outputs": [
    {
     "ename": "FileNotFoundError",
     "evalue": "No such file or no access: './recon/example.nii'",
     "output_type": "error",
     "traceback": [
      "\u001b[0;31m---------------------------------------------------------------------------\u001b[0m",
      "\u001b[0;31mFileNotFoundError\u001b[0m                         Traceback (most recent call last)",
      "\u001b[0;32m~/.conda/envs/pytorch/lib/python3.7/site-packages/nibabel/loadsave.py\u001b[0m in \u001b[0;36mload\u001b[0;34m(filename, **kwargs)\u001b[0m\n\u001b[1;32m     41\u001b[0m     \u001b[0;32mtry\u001b[0m\u001b[0;34m:\u001b[0m\u001b[0;34m\u001b[0m\u001b[0;34m\u001b[0m\u001b[0m\n\u001b[0;32m---> 42\u001b[0;31m         \u001b[0mstat_result\u001b[0m \u001b[0;34m=\u001b[0m \u001b[0mos\u001b[0m\u001b[0;34m.\u001b[0m\u001b[0mstat\u001b[0m\u001b[0;34m(\u001b[0m\u001b[0mfilename\u001b[0m\u001b[0;34m)\u001b[0m\u001b[0;34m\u001b[0m\u001b[0;34m\u001b[0m\u001b[0m\n\u001b[0m\u001b[1;32m     43\u001b[0m     \u001b[0;32mexcept\u001b[0m \u001b[0mOSError\u001b[0m\u001b[0;34m:\u001b[0m\u001b[0;34m\u001b[0m\u001b[0;34m\u001b[0m\u001b[0m\n",
      "\u001b[0;31mFileNotFoundError\u001b[0m: [Errno 2] No such file or directory: './recon/example.nii'",
      "\nDuring handling of the above exception, another exception occurred:\n",
      "\u001b[0;31mFileNotFoundError\u001b[0m                         Traceback (most recent call last)",
      "\u001b[0;32m<ipython-input-3-292ae5028130>\u001b[0m in \u001b[0;36m<module>\u001b[0;34m\u001b[0m\n\u001b[1;32m      1\u001b[0m \u001b[0mtmpl_name\u001b[0m \u001b[0;34m=\u001b[0m \u001b[0;34m\"./recon/example.nii\"\u001b[0m\u001b[0;34m\u001b[0m\u001b[0;34m\u001b[0m\u001b[0m\n\u001b[0;32m----> 2\u001b[0;31m \u001b[0mfile_nii\u001b[0m \u001b[0;34m=\u001b[0m \u001b[0mnib\u001b[0m\u001b[0;34m.\u001b[0m\u001b[0mload\u001b[0m\u001b[0;34m(\u001b[0m\u001b[0mtmpl_name\u001b[0m\u001b[0;34m)\u001b[0m\u001b[0;34m\u001b[0m\u001b[0;34m\u001b[0m\u001b[0m\n\u001b[0m\u001b[1;32m      3\u001b[0m \u001b[0mfile_data\u001b[0m \u001b[0;34m=\u001b[0m \u001b[0mfile_nii\u001b[0m\u001b[0;34m.\u001b[0m\u001b[0mget_fdata\u001b[0m\u001b[0;34m(\u001b[0m\u001b[0;34m)\u001b[0m\u001b[0;34m\u001b[0m\u001b[0;34m\u001b[0m\u001b[0m\n\u001b[1;32m      4\u001b[0m \u001b[0mfile_header\u001b[0m \u001b[0;34m=\u001b[0m \u001b[0mfile_nii\u001b[0m\u001b[0;34m.\u001b[0m\u001b[0mheader\u001b[0m\u001b[0;34m\u001b[0m\u001b[0;34m\u001b[0m\u001b[0m\n\u001b[1;32m      5\u001b[0m \u001b[0mfile_affine\u001b[0m \u001b[0;34m=\u001b[0m \u001b[0mfile_nii\u001b[0m\u001b[0;34m.\u001b[0m\u001b[0maffine\u001b[0m\u001b[0;34m\u001b[0m\u001b[0;34m\u001b[0m\u001b[0m\n",
      "\u001b[0;32m~/.conda/envs/pytorch/lib/python3.7/site-packages/nibabel/loadsave.py\u001b[0m in \u001b[0;36mload\u001b[0;34m(filename, **kwargs)\u001b[0m\n\u001b[1;32m     42\u001b[0m         \u001b[0mstat_result\u001b[0m \u001b[0;34m=\u001b[0m \u001b[0mos\u001b[0m\u001b[0;34m.\u001b[0m\u001b[0mstat\u001b[0m\u001b[0;34m(\u001b[0m\u001b[0mfilename\u001b[0m\u001b[0;34m)\u001b[0m\u001b[0;34m\u001b[0m\u001b[0;34m\u001b[0m\u001b[0m\n\u001b[1;32m     43\u001b[0m     \u001b[0;32mexcept\u001b[0m \u001b[0mOSError\u001b[0m\u001b[0;34m:\u001b[0m\u001b[0;34m\u001b[0m\u001b[0;34m\u001b[0m\u001b[0m\n\u001b[0;32m---> 44\u001b[0;31m         \u001b[0;32mraise\u001b[0m \u001b[0mFileNotFoundError\u001b[0m\u001b[0;34m(\u001b[0m\u001b[0;34m\"No such file or no access: '%s'\"\u001b[0m \u001b[0;34m%\u001b[0m \u001b[0mfilename\u001b[0m\u001b[0;34m)\u001b[0m\u001b[0;34m\u001b[0m\u001b[0;34m\u001b[0m\u001b[0m\n\u001b[0m\u001b[1;32m     45\u001b[0m     \u001b[0;32mif\u001b[0m \u001b[0mstat_result\u001b[0m\u001b[0;34m.\u001b[0m\u001b[0mst_size\u001b[0m \u001b[0;34m<=\u001b[0m \u001b[0;36m0\u001b[0m\u001b[0;34m:\u001b[0m\u001b[0;34m\u001b[0m\u001b[0;34m\u001b[0m\u001b[0m\n\u001b[1;32m     46\u001b[0m         \u001b[0;32mraise\u001b[0m \u001b[0mImageFileError\u001b[0m\u001b[0;34m(\u001b[0m\u001b[0;34m\"Empty file: '%s'\"\u001b[0m \u001b[0;34m%\u001b[0m \u001b[0mfilename\u001b[0m\u001b[0;34m)\u001b[0m\u001b[0;34m\u001b[0m\u001b[0;34m\u001b[0m\u001b[0m\n",
      "\u001b[0;31mFileNotFoundError\u001b[0m: No such file or no access: './recon/example.nii'"
     ]
    }
   ],
   "source": [
    "\n",
    "    tmpl_name = \"./test_data/zeros_PET.nii\"\n",
    "    file_nii = nib.load(tmpl_name)\n",
    "    file_data = file_nii.get_fdata()\n",
    "    file_header = file_nii.header\n",
    "    file_affine = file_nii.affine\n",
    "\n",
    "    save_data = process_data(data)\n",
    "    save_file = nib.Nifti1Image(save_data, affine=file_affine, header=file_header)\n",
    "    save_name = os.path.basename(name)[:-7]+\"_rec.nii\"\n",
    "    nib.save(save_file, save_name)\n",
    "    print(save_name)\n",
    "    # px, py, pz = data.shape\n",
    "    # qx, qy, qz = (px*2, py*2, pz*2)\n",
    "\n",
    "    # zoom_data = zoom(data, (1, 1, 1))\n",
    "    # zoom_data = zoom_data / np.sum(zoom_data) * np.sum(data)\n",
    "    # print(\"Old dim:\", data.shape)\n",
    "    # print(\"New dim:\", zoom_data.shape)\n",
    "    # print(\"Original sum:\", np.sum(data))\n",
    "    # print(\"2x sum:\", np.sum(zoom_data))\n",
    "\n",
    "    # PVE_data = np.zeros((px, py, pz))\n",
    "    # for idx in range(px):\n",
    "    #     for idy in range(py):\n",
    "    #         for idz in range(pz):\n",
    "    #             # print(\"Old sum:\", data[idx, idy, idz])\n",
    "    #             new_sum = np.sum(zoom_data[idx*2:idx*2+2, idy*2:idy*2+2, idz*2:idz*2+2])\n",
    "    #             # print(\"New sum:\", new_sum)\n",
    "    #             PVE_data[idx, idy, idz] = new_sum\n",
    "\n",
    "    # print(\"PVE sum:\", np.sum(PVE_data))\n",
    "\n",
    "    # sino_file = nib.Nifti1Image(PVE_data, affine=file_affine, header=file_header)\n",
    "    # nib.save(sino_file, name[:-4] +\"_xy256z89_PVE.nii\")"
   ]
  },
  {
   "cell_type": "code",
   "execution_count": 8,
   "metadata": {},
   "outputs": [],
   "source": [
    "nii_file = nib.load(\"./test_data/example.nii\")\n",
    "nii_data = nii_file.get_fdata()\n",
    "nii_zero = np.zeros(nii_data.shape,dtype = np.uint)\n",
    "\n",
    "save_file = nib.Nifti1Image(np.zeros((1,1,1)), affine=nii_file.affine, header=nii_file.header)\n",
    "save_name = \"./test_data/zeros_PET.nii\"\n",
    "nib.save(save_file, save_name)"
   ]
  },
  {
   "cell_type": "code",
   "execution_count": 10,
   "metadata": {},
   "outputs": [
    {
     "name": "stdout",
     "output_type": "stream",
     "text": [
      "<class 'nibabel.nifti1.Nifti1Header'> object, endian='<'\n",
      "sizeof_hdr      : 348\n",
      "data_type       : b''\n",
      "db_name         : b''\n",
      "extents         : 0\n",
      "session_error   : 0\n",
      "regular         : b'r'\n",
      "dim_info        : 0\n",
      "dim             : [  3 256 256  89   1   0   0   0]\n",
      "intent_p1       : 0.0\n",
      "intent_p2       : 0.0\n",
      "intent_p3       : 0.0\n",
      "intent_code     : none\n",
      "datatype        : float32\n",
      "bitpix          : 32\n",
      "slice_start     : 0\n",
      "pixdim          : [-1.         1.171875   1.171875   2.7799988  0.         0.\n",
      "  0.         0.       ]\n",
      "vox_offset      : 0.0\n",
      "scl_slope       : nan\n",
      "scl_inter       : nan\n",
      "slice_end       : 0\n",
      "slice_code      : unknown\n",
      "xyzt_units      : 10\n",
      "cal_max         : 0.0\n",
      "cal_min         : 0.0\n",
      "slice_duration  : 0.0\n",
      "toffset         : 0.0\n",
      "glmax           : 0\n",
      "glmin           : 0\n",
      "descrip         : b'TE=0;Time=111139.000'\n",
      "aux_file        : b''\n",
      "qform_code      : scanner\n",
      "sform_code      : aligned\n",
      "quatern_b       : 0.0\n",
      "quatern_c       : 1.0\n",
      "quatern_d       : 0.0\n",
      "qoffset_x       : 149.41406\n",
      "qoffset_y       : -129.41406\n",
      "qoffset_z       : -126.65989\n",
      "srow_x          : [-1.1718743e+00 -7.0691109e-04  2.3588538e-03  1.4935669e+02]\n",
      "srow_y          : [-7.0881844e-04  1.1718726e+00 -5.3101778e-03 -1.2958995e+02]\n",
      "srow_z          : [ 9.9301338e-04  2.2390485e-03  2.7799926e+00 -1.2727957e+02]\n",
      "intent_name     : b''\n",
      "magic           : b'n+1'\n"
     ]
    }
   ],
   "source": [
    "print(nii_file.header)"
   ]
  },
  {
   "cell_type": "code",
   "execution_count": null,
   "metadata": {},
   "outputs": [],
   "source": []
  }
 ],
 "metadata": {
  "kernelspec": {
   "display_name": "Python 3",
   "language": "python",
   "name": "python3"
  },
  "language_info": {
   "codemirror_mode": {
    "name": "ipython",
    "version": 3
   },
   "file_extension": ".py",
   "mimetype": "text/x-python",
   "name": "python",
   "nbconvert_exporter": "python",
   "pygments_lexer": "ipython3",
   "version": "3.7.7"
  }
 },
 "nbformat": 4,
 "nbformat_minor": 4
}
