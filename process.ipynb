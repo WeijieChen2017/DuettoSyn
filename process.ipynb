{
 "cells": [
  {
   "cell_type": "code",
   "execution_count": 8,
   "metadata": {},
   "outputs": [],
   "source": [
    "import numpy as np\n",
    "import nibabel as nib\n",
    "import glob"
   ]
  },
  {
   "cell_type": "code",
   "execution_count": 9,
   "metadata": {},
   "outputs": [
    {
     "name": "stdout",
     "output_type": "stream",
     "text": [
      "./data/epcase01_PET_MAC_20181001110741_4.nii\n",
      "./data/epcase02_PET_MAC_20180913151013_5.nii\n",
      "./data/epcase03_PET_MAC_20181016124202_4.nii\n",
      "./data/mri_inv.nii\n",
      "./data/subj01_t1bravo.nii\n"
     ]
    }
   ],
   "source": [
    "file_list = glob.glob(\"./data/*.nii\")\n",
    "file_list.sort()\n",
    "for file_name in file_list:\n",
    "    print(file_name)"
   ]
  },
  {
   "cell_type": "code",
   "execution_count": 10,
   "metadata": {},
   "outputs": [],
   "source": [
    "file_nii = nib.load(file_list[-2])\n",
    "file_data = file_nii.get_fdata()\n",
    "file_header = file_nii.header\n",
    "file_affine = file_nii.affine"
   ]
  },
  {
   "cell_type": "code",
   "execution_count": 11,
   "metadata": {},
   "outputs": [
    {
     "data": {
      "text/plain": [
       "array([[ 4.68643039e-01,  6.79624267e-04, -1.55013436e-02,\n",
       "        -1.14535881e+02],\n",
       "       [ 1.27209831e-04,  4.67762709e-01,  3.98881808e-02,\n",
       "        -7.23637543e+01],\n",
       "       [ 1.21310456e-02, -3.11612394e-02,  5.98425090e-01,\n",
       "        -8.59880753e+01],\n",
       "       [ 0.00000000e+00,  0.00000000e+00,  0.00000000e+00,\n",
       "         1.00000000e+00]])"
      ]
     },
     "execution_count": 11,
     "metadata": {},
     "output_type": "execute_result"
    }
   ],
   "source": [
    "file_affine"
   ]
  },
  {
   "cell_type": "code",
   "execution_count": 12,
   "metadata": {},
   "outputs": [
    {
     "name": "stdout",
     "output_type": "stream",
     "text": [
      "<class 'nibabel.nifti1.Nifti1Header'> object, endian='<'\n",
      "sizeof_hdr      : 348\n",
      "data_type       : b''\n",
      "db_name         : b''\n",
      "extents         : 0\n",
      "session_error   : 0\n",
      "regular         : b'r'\n",
      "dim_info        : 0\n",
      "dim             : [  3 512 512 284   1   1   1   1]\n",
      "intent_p1       : 0.0\n",
      "intent_p2       : 0.0\n",
      "intent_p3       : 0.0\n",
      "intent_code     : none\n",
      "datatype        : float32\n",
      "bitpix          : 32\n",
      "slice_start     : 0\n",
      "pixdim          : [1.         0.46880004 0.4688     0.5999533  1.         0.\n",
      " 0.         0.        ]\n",
      "vox_offset      : 0.0\n",
      "scl_slope       : nan\n",
      "scl_inter       : nan\n",
      "slice_end       : 0\n",
      "slice_code      : unknown\n",
      "xyzt_units      : 10\n",
      "cal_max         : 0.0\n",
      "cal_min         : 0.0\n",
      "slice_duration  : 0.0\n",
      "toffset         : 0.0\n",
      "glmax           : 0\n",
      "glmin           : 0\n",
      "descrip         : b'FSL5.0'\n",
      "aux_file        : b''\n",
      "qform_code      : scanner\n",
      "sform_code      : scanner\n",
      "quatern_b       : -0.03326011\n",
      "quatern_c       : -0.012936838\n",
      "quatern_d       : -0.00029477736\n",
      "qoffset_x       : -114.53588\n",
      "qoffset_y       : -72.363754\n",
      "qoffset_z       : -85.988075\n",
      "srow_x          : [ 4.6864304e-01  6.7962427e-04 -1.5501344e-02 -1.1453588e+02]\n",
      "srow_y          : [ 1.2720983e-04  4.6776271e-01  3.9888181e-02 -7.2363754e+01]\n",
      "srow_z          : [ 1.2131046e-02 -3.1161239e-02  5.9842509e-01 -8.5988075e+01]\n",
      "intent_name     : b''\n",
      "magic           : b'n+1'\n"
     ]
    }
   ],
   "source": [
    "print(file_header)"
   ]
  },
  {
   "cell_type": "code",
   "execution_count": 13,
   "metadata": {},
   "outputs": [
    {
     "name": "stdout",
     "output_type": "stream",
     "text": [
      "[0.46880004 0.4688     0.5999533 ]\n"
     ]
    }
   ],
   "source": [
    "spacing = file_header[\"pixdim\"][1:4]\n",
    "print(spacing)"
   ]
  },
  {
   "cell_type": "code",
   "execution_count": 14,
   "metadata": {},
   "outputs": [
    {
     "name": "stdout",
     "output_type": "stream",
     "text": [
      "[512 512 284]\n"
     ]
    }
   ],
   "source": [
    "dim = file_header[\"dim\"][1:4]\n",
    "print(dim)"
   ]
  },
  {
   "cell_type": "code",
   "execution_count": 15,
   "metadata": {},
   "outputs": [
    {
     "name": "stdout",
     "output_type": "stream",
     "text": [
      "[240.02562 240.0256  170.38673]\n"
     ]
    }
   ],
   "source": [
    "phy_space = spacing * dim\n",
    "print(phy_space)"
   ]
  },
  {
   "cell_type": "code",
   "execution_count": 16,
   "metadata": {},
   "outputs": [
    {
     "data": {
      "text/plain": [
       "array([2.696917 , 2.6969168, 1.9144577], dtype=float32)"
      ]
     },
     "execution_count": 16,
     "metadata": {},
     "output_type": "execute_result"
    }
   ],
   "source": [
    "phy_space/89"
   ]
  },
  {
   "cell_type": "markdown",
   "metadata": {},
   "source": [
    "## zoom"
   ]
  },
  {
   "cell_type": "code",
   "execution_count": 18,
   "metadata": {},
   "outputs": [
    {
     "name": "stderr",
     "output_type": "stream",
     "text": [
      "/Users/convez/.conda/envs/pytorch/lib/python3.7/site-packages/scipy/ndimage/interpolation.py:611: UserWarning: From scipy 0.13.0, the output shape of zoom() is calculated with round() instead of int() - for these inputs the size of the returned array has changed.\n",
      "  \"the returned array has changed.\", UserWarning)\n"
     ]
    }
   ],
   "source": [
    "from scipy.ndimage import zoom\n",
    "new_array = zoom(file_data, (0.5, 0.5, 0.3133))"
   ]
  },
  {
   "cell_type": "code",
   "execution_count": 19,
   "metadata": {},
   "outputs": [
    {
     "name": "stdout",
     "output_type": "stream",
     "text": [
      "(256, 256, 89)\n"
     ]
    }
   ],
   "source": [
    "print(new_array.shape)"
   ]
  },
  {
   "cell_type": "code",
   "execution_count": 25,
   "metadata": {},
   "outputs": [
    {
     "name": "stdout",
     "output_type": "stream",
     "text": [
      "[1.        0.9376001 0.9376    1.9149482 1.        0.        0.\n",
      " 0.       ]\n"
     ]
    }
   ],
   "source": [
    "import copy\n",
    "new_header = copy.deepcopy(file_header)\n",
    "new_header[\"pixdim\"][1] = file_header[\"pixdim\"][1]*2\n",
    "new_header[\"pixdim\"][2] = file_header[\"pixdim\"][2]*2\n",
    "new_header[\"pixdim\"][3] = file_header[\"pixdim\"][3]/0.3133\n",
    "print(new_header[\"pixdim\"])"
   ]
  },
  {
   "cell_type": "code",
   "execution_count": 27,
   "metadata": {},
   "outputs": [],
   "source": [
    "import numpy as np\n",
    "sino_file = nib.Nifti1Image(new_array, affine=file_affine, header=new_header)\n",
    "nib.save(sino_file, \"./mri_89.nii\")"
   ]
  },
  {
   "cell_type": "markdown",
   "metadata": {},
   "source": [
    "## Affine"
   ]
  },
  {
   "cell_type": "code",
   "execution_count": 17,
   "metadata": {},
   "outputs": [
    {
     "name": "stdout",
     "output_type": "stream",
     "text": [
      "[[ 4.68643039e-01  6.79624267e-04 -1.55013436e-02]\n",
      " [ 1.27209831e-04  4.67762709e-01  3.98881808e-02]\n",
      " [ 1.21310456e-02 -3.11612394e-02  5.98425090e-01]]\n",
      "[-114.53588104  -72.36375427  -85.98807526]\n"
     ]
    }
   ],
   "source": [
    "from scipy.ndimage import affine_transform as apply_affine\n",
    "\n",
    "affine_matrix = file_affine[:3, :3]\n",
    "print(affine_matrix)\n",
    "\n",
    "affine_offset = file_affine[:3, -1]\n",
    "print(affine_offset)"
   ]
  },
  {
   "cell_type": "code",
   "execution_count": 28,
   "metadata": {},
   "outputs": [],
   "source": [
    "affine_data = apply_affine(file_data, affine_matrix, offset=affine_offset)"
   ]
  },
  {
   "cell_type": "code",
   "execution_count": 29,
   "metadata": {},
   "outputs": [
    {
     "name": "stdout",
     "output_type": "stream",
     "text": [
      "[[0. 0. 0. 0.]\n",
      " [0. 0. 0. 0.]\n",
      " [0. 0. 0. 0.]\n",
      " [0. 0. 0. 1.]]\n",
      "[0. 0. 0. 0.]\n",
      "[0. 0. 0. 0.]\n",
      "[0. 0. 0. 0.]\n"
     ]
    }
   ],
   "source": [
    "new_affine = np.zeros((4,4))\n",
    "new_affine[-1, -1] = 1\n",
    "print(new_affine)\n",
    "\n",
    "import copy\n",
    "\n",
    "new_header = copy.deepcopy(file_header)\n",
    "new_header[\"srow_x\"] = np.zeros((1,4))\n",
    "new_header[\"srow_y\"] = np.zeros((1,4))\n",
    "new_header[\"srow_z\"] = np.zeros((1,4))\n",
    "print(new_header[\"srow_x\"])\n",
    "print(new_header[\"srow_y\"])\n",
    "print(new_header[\"srow_z\"])"
   ]
  },
  {
   "cell_type": "code",
   "execution_count": 34,
   "metadata": {},
   "outputs": [],
   "source": [
    "affine_file = nib.Nifti1Image(affine_data, file_affine, file_header)\n",
    "nib.save(affine_file, \"./affined.nii\")"
   ]
  },
  {
   "cell_type": "code",
   "execution_count": null,
   "metadata": {},
   "outputs": [],
   "source": []
  },
  {
   "cell_type": "code",
   "execution_count": 35,
   "metadata": {},
   "outputs": [
    {
     "name": "stdout",
     "output_type": "stream",
     "text": [
      "[[-0.85333333 -0.         -0.        ]\n",
      " [ 0.          0.85333333  0.        ]\n",
      " [ 0.          0.          0.35971239]]\n",
      "[-149.4140625  129.4140625  114.9598999]\n"
     ]
    }
   ],
   "source": [
    "inv_matrix = np.linalg.inv(file_affine[:3, :3])\n",
    "print(inv_matrix)\n",
    "\n",
    "inv_offset = -file_affine[:3, -1]\n",
    "print(inv_offset)"
   ]
  },
  {
   "cell_type": "code",
   "execution_count": 36,
   "metadata": {},
   "outputs": [],
   "source": [
    "inv_data = apply_affine(file_data, inv_matrix, offset=inv_offset)"
   ]
  },
  {
   "cell_type": "code",
   "execution_count": 37,
   "metadata": {},
   "outputs": [],
   "source": [
    "inv_file = nib.Nifti1Image(inv_data, file_affine, file_header)\n",
    "nib.save(inv_file, \"./inv_affined.nii\")"
   ]
  },
  {
   "cell_type": "code",
   "execution_count": null,
   "metadata": {},
   "outputs": [],
   "source": []
  },
  {
   "cell_type": "code",
   "execution_count": null,
   "metadata": {},
   "outputs": [],
   "source": []
  },
  {
   "cell_type": "code",
   "execution_count": 33,
   "metadata": {},
   "outputs": [
    {
     "ename": "NameError",
     "evalue": "name 'numpy' is not defined",
     "output_type": "error",
     "traceback": [
      "\u001b[0;31m---------------------------------------------------------------------------\u001b[0m",
      "\u001b[0;31mNameError\u001b[0m                                 Traceback (most recent call last)",
      "\u001b[0;32m<ipython-input-33-1a485848925f>\u001b[0m in \u001b[0;36m<module>\u001b[0;34m\u001b[0m\n\u001b[1;32m      1\u001b[0m \u001b[0;32mfrom\u001b[0m \u001b[0mPIL\u001b[0m \u001b[0;32mimport\u001b[0m \u001b[0mImage\u001b[0m\u001b[0;34m\u001b[0m\u001b[0;34m\u001b[0m\u001b[0m\n\u001b[0;32m----> 2\u001b[0;31m \u001b[0mresized_image\u001b[0m \u001b[0;34m=\u001b[0m \u001b[0mnumpy\u001b[0m\u001b[0;34m.\u001b[0m\u001b[0marray\u001b[0m\u001b[0;34m(\u001b[0m\u001b[0mImage\u001b[0m\u001b[0;34m.\u001b[0m\u001b[0mfromarray\u001b[0m\u001b[0;34m(\u001b[0m\u001b[0moriginal_image\u001b[0m\u001b[0;34m)\u001b[0m\u001b[0;34m.\u001b[0m\u001b[0mresize\u001b[0m\u001b[0;34m(\u001b[0m\u001b[0mnewsize\u001b[0m\u001b[0;34m)\u001b[0m\u001b[0;34m)\u001b[0m\u001b[0;34m\u001b[0m\u001b[0;34m\u001b[0m\u001b[0m\n\u001b[0m",
      "\u001b[0;31mNameError\u001b[0m: name 'numpy' is not defined"
     ]
    }
   ],
   "source": [
    "from PIL import Image       \n",
    "resized_image = numpy.array(Image.fromarray(original_image).resize(newsize))"
   ]
  },
  {
   "cell_type": "code",
   "execution_count": null,
   "metadata": {},
   "outputs": [],
   "source": []
  },
  {
   "cell_type": "code",
   "execution_count": 34,
   "metadata": {},
   "outputs": [
    {
     "name": "stdout",
     "output_type": "stream",
     "text": [
      "(512, 512, 284)\n"
     ]
    }
   ],
   "source": [
    "print(file_data.shape)"
   ]
  },
  {
   "cell_type": "code",
   "execution_count": 36,
   "metadata": {},
   "outputs": [
    {
     "name": "stdout",
     "output_type": "stream",
     "text": [
      "(512, 284)\n"
     ]
    }
   ],
   "source": [
    "img = file_data[256, :, :]\n",
    "print(img.shape)"
   ]
  },
  {
   "cell_type": "code",
   "execution_count": 37,
   "metadata": {},
   "outputs": [
    {
     "data": {
      "text/plain": [
       "<matplotlib.image.AxesImage at 0x119191a90>"
      ]
     },
     "execution_count": 37,
     "metadata": {},
     "output_type": "execute_result"
    },
    {
     "data": {
      "image/png": "[encoded data removed]",
      "text/plain": [
       "<Figure size 400x400 with 1 Axes>"
      ]
     },
     "metadata": {
      "needs_background": "light"
     },
     "output_type": "display_data"
    }
   ],
   "source": [
    "import matplotlib.pyplot as plt\n",
    "plt.figure(figsize = (2,2), dpi=200)\n",
    "plt.imshow(img, cmap='gray')"
   ]
  },
  {
   "cell_type": "code",
   "execution_count": 44,
   "metadata": {},
   "outputs": [],
   "source": [
    "re_img = np.array(Image.fromarray(img).resize((89, 512)))"
   ]
  },
  {
   "cell_type": "code",
   "execution_count": 45,
   "metadata": {},
   "outputs": [
    {
     "name": "stdout",
     "output_type": "stream",
     "text": [
      "(512, 89)\n"
     ]
    },
    {
     "data": {
      "text/plain": [
       "<matplotlib.image.AxesImage at 0x1197ead10>"
      ]
     },
     "execution_count": 45,
     "metadata": {},
     "output_type": "execute_result"
    },
    {
     "data": {
      "image/png": "[encoded data removed]",
      "text/plain": [
       "<Figure size 400x400 with 1 Axes>"
      ]
     },
     "metadata": {
      "needs_background": "light"
     },
     "output_type": "display_data"
    }
   ],
   "source": [
    "import matplotlib.pyplot as plt\n",
    "print(re_img.shape)\n",
    "plt.figure(figsize = (2,2), dpi=200)\n",
    "plt.imshow(re_img, cmap='gray')"
   ]
  },
  {
   "cell_type": "code",
   "execution_count": 47,
   "metadata": {},
   "outputs": [],
   "source": [
    "from scipy.io import savemat\n",
    "mdic = {\"data\": file_data}\n",
    "savemat(\"brain_1_pet.mat\", mdic)"
   ]
  },
  {
   "cell_type": "code",
   "execution_count": 49,
   "metadata": {},
   "outputs": [
    {
     "name": "stdout",
     "output_type": "stream",
     "text": [
      "subj03_pet\n"
     ]
    }
   ],
   "source": [
    "import os\n",
    "print(os.path.basename(file_name)[:-4])"
   ]
  },
  {
   "cell_type": "code",
   "execution_count": null,
   "metadata": {},
   "outputs": [],
   "source": []
  }
 ],
 "metadata": {
  "kernelspec": {
   "display_name": "Python 3",
   "language": "python",
   "name": "python3"
  },
  "language_info": {
   "codemirror_mode": {
    "name": "ipython",
    "version": 3
   },
   "file_extension": ".py",
   "mimetype": "text/x-python",
   "name": "python",
   "nbconvert_exporter": "python",
   "pygments_lexer": "ipython3",
   "version": "3.7.5"
  }
 },
 "nbformat": 4,
 "nbformat_minor": 4
}
